{
 "cells": [
  {
   "cell_type": "code",
   "execution_count": null,
   "metadata": {},
   "outputs": [],
   "source": [
    "# 78번 주식을 사고팔기 가장 좋은 시점 2(리트코드 122번)\n",
    "\n",
    "class Solution:\n",
    "    def maxProfit(self, prices: List[int]) -> int:\n",
    "        result = 0\n",
    "        # 값이 오르는 경우 매번 그리디 계산\n",
    "        for i in range(len(prices) - 1):\n",
    "            # prices[i+1]이 prices[i]보다 클 때 둘의 값 차이를 result에 더함\n",
    "            if prices[i + 1] > prices[i]:\n",
    "                result += prices[i + 1] - prices[i]\n",
    "        return result"
   ]
  },
  {
   "cell_type": "code",
   "execution_count": null,
   "metadata": {},
   "outputs": [],
   "source": [
    "# 79번 키에 따른 대기열 재구성(리트코드 406번)\n",
    "\n",
    "class Solution:\n",
    "    def reconstructQueue(self, people: List[List[int]]) -> List[List[int]]:\n",
    "        heap = []\n",
    "        # 키 역순, 인덱스 삽입\n",
    "        for person in people:\n",
    "            heapq.heappush(heap, (-person[0], person[1]))\n",
    "            \n",
    "        result = []\n",
    "        # 키 역순, 인덱스 추출\n",
    "        while heap:\n",
    "            person = heapq.heappop(heap)\n",
    "            result.insert(person[1], [-person[0], person[1]])\n",
    "        return result"
   ]
  },
  {
   "cell_type": "code",
   "execution_count": null,
   "metadata": {},
   "outputs": [],
   "source": [
    "# 80번 태스크 스케줄러(리트코드 621번)\n",
    "\n",
    "class Solution:\n",
    "    def leastInterval(self, tasks: List[str], n: int) -> int:\n",
    "        # 카운터 및 결과값 초기값 설정\n",
    "        counter = collections.Counter(tasks)\n",
    "        result = 0\n",
    "        \n",
    "        # while문 돌리기\n",
    "        while True:\n",
    "            sub_count = 0\n",
    "            # 개수 순 추출\n",
    "            for task, _ in counter.most_common(n + 1):\n",
    "                sub_count += 1\n",
    "                result += 1\n",
    "                \n",
    "                counter.subtract(task)\n",
    "                # 0 이하인 아이템을 목록에서 완전히 제거\n",
    "                counter += collections.Counter()\n",
    "            \n",
    "            # 카운터가 아닐 때 멈춤\n",
    "            if not counter:\n",
    "                break\n",
    "            \n",
    "            # 결과값은 n - sub_count + 1을 계속 더한 값\n",
    "            result += n - sub_count + 1\n",
    "            \n",
    "        return result"
   ]
  },
  {
   "cell_type": "code",
   "execution_count": null,
   "metadata": {},
   "outputs": [],
   "source": [
    "# 81번 주유소(리트코드 134번)\n",
    "\n",
    "class Solution:\n",
    "    def canCompleteCircuit(self, gas: List[int], cost: List[int]) -> int:\n",
    "        # 모든 주유소 방문 가능 여부 판별\n",
    "        if sum(gas) < sum(cost):\n",
    "            return -1\n",
    "        \n",
    "        # 시작 및 fuel 값 설정\n",
    "        start, fuel = 0, 0\n",
    "        \n",
    "        # gas의 길이 범위 내에서\n",
    "        for i in range(len(gas)):\n",
    "            # 출발점이 안되는 지점 판별\n",
    "            if gas[i] + fuel < cost[i]:\n",
    "                start = i + 1\n",
    "                fuel = 0\n",
    "            else:\n",
    "                fuel += gas[i] - cost[i]\n",
    "        \n",
    "        # 시작값 반환\n",
    "        return start"
   ]
  },
  {
   "cell_type": "code",
   "execution_count": null,
   "metadata": {},
   "outputs": [],
   "source": [
    "# 82번 쿠키 부여(리트코드 455번)\n",
    "\n",
    "class Solution:\n",
    "    def findContentChildren(self, g: List[int], s: List[int]) -> int:\n",
    "        # 우선 g와 s 정렬\n",
    "        g.sort()\n",
    "        s.sort()\n",
    "        \n",
    "        # child 리스트 및 쿠키 리스트 설정\n",
    "        child_i = cookie_j = 0\n",
    "        # 만족하지 못할 때까지 그리디 진행\n",
    "        while child_i < len(g) and cookie_j < len(s):\n",
    "            if s[cookie_j] >= g[child_i]:\n",
    "                child_i += 1\n",
    "            cookie_j += 1\n",
    "        \n",
    "        # child 리스트 반환\n",
    "        return child_i"
   ]
  }
 ],
 "metadata": {
  "kernelspec": {
   "display_name": "Python 3",
   "language": "python",
   "name": "python3"
  },
  "language_info": {
   "codemirror_mode": {
    "name": "ipython",
    "version": 3
   },
   "file_extension": ".py",
   "mimetype": "text/x-python",
   "name": "python",
   "nbconvert_exporter": "python",
   "pygments_lexer": "ipython3",
   "version": "3.8.5"
  }
 },
 "nbformat": 4,
 "nbformat_minor": 4
}
